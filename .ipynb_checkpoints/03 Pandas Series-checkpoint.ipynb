{
 "cells": [
  {
   "cell_type": "code",
   "execution_count": 2,
   "id": "a1886e18",
   "metadata": {},
   "outputs": [],
   "source": [
    "import pandas as pd"
   ]
  },
  {
   "cell_type": "code",
   "execution_count": 3,
   "id": "83a9f15e",
   "metadata": {},
   "outputs": [],
   "source": [
    "df = pd.read_csv('https://raw.githubusercontent.com/plotly/datasets/master/titanic.csv')"
   ]
  },
  {
   "cell_type": "code",
   "execution_count": 10,
   "id": "e315f27b",
   "metadata": {},
   "outputs": [],
   "source": [
    "names = df['Name'][0:10]"
   ]
  },
  {
   "cell_type": "code",
   "execution_count": 11,
   "id": "3615e814",
   "metadata": {},
   "outputs": [
    {
     "data": {
      "text/plain": [
       "0                              Braund, Mr. Owen Harris\n",
       "1    Cumings, Mrs. John Bradley (Florence Briggs Th...\n",
       "2                               Heikkinen, Miss. Laina\n",
       "3         Futrelle, Mrs. Jacques Heath (Lily May Peel)\n",
       "4                             Allen, Mr. William Henry\n",
       "5                                     Moran, Mr. James\n",
       "6                              McCarthy, Mr. Timothy J\n",
       "7                       Palsson, Master. Gosta Leonard\n",
       "8    Johnson, Mrs. Oscar W (Elisabeth Vilhelmina Berg)\n",
       "9                  Nasser, Mrs. Nicholas (Adele Achem)\n",
       "Name: Name, dtype: object"
      ]
     },
     "execution_count": 11,
     "metadata": {},
     "output_type": "execute_result"
    }
   ],
   "source": [
    "names"
   ]
  },
  {
   "cell_type": "code",
   "execution_count": 12,
   "id": "7e272988",
   "metadata": {},
   "outputs": [
    {
     "data": {
      "text/plain": [
       "pandas.core.series.Series"
      ]
     },
     "execution_count": 12,
     "metadata": {},
     "output_type": "execute_result"
    }
   ],
   "source": [
    "type(names)"
   ]
  },
  {
   "cell_type": "code",
   "execution_count": 13,
   "id": "d4b2caba",
   "metadata": {},
   "outputs": [],
   "source": [
    "l = ['a','b','c','d','e','f','g','h','i','j']"
   ]
  },
  {
   "cell_type": "markdown",
   "id": "92b9d397",
   "metadata": {},
   "source": [
    "# Changing Index"
   ]
  },
  {
   "cell_type": "code",
   "execution_count": 23,
   "id": "f80e8c57",
   "metadata": {},
   "outputs": [],
   "source": [
    "s = pd.Series(list(names),index=l)"
   ]
  },
  {
   "cell_type": "code",
   "execution_count": 25,
   "id": "3fa15c6d",
   "metadata": {},
   "outputs": [
    {
     "data": {
      "text/plain": [
       "'Braund, Mr. Owen Harris'"
      ]
     },
     "execution_count": 25,
     "metadata": {},
     "output_type": "execute_result"
    }
   ],
   "source": [
    "s[0]"
   ]
  },
  {
   "cell_type": "code",
   "execution_count": 26,
   "id": "e9ed3cab",
   "metadata": {},
   "outputs": [
    {
     "data": {
      "text/plain": [
       "'Braund, Mr. Owen Harris'"
      ]
     },
     "execution_count": 26,
     "metadata": {},
     "output_type": "execute_result"
    }
   ],
   "source": [
    "s['a']"
   ]
  },
  {
   "cell_type": "code",
   "execution_count": 28,
   "id": "10814845",
   "metadata": {},
   "outputs": [],
   "source": [
    "s2 = s.append(names)"
   ]
  },
  {
   "cell_type": "code",
   "execution_count": 30,
   "id": "5039baeb",
   "metadata": {},
   "outputs": [
    {
     "data": {
      "text/plain": [
       "'Braund, Mr. Owen Harris'"
      ]
     },
     "execution_count": 30,
     "metadata": {},
     "output_type": "execute_result"
    }
   ],
   "source": [
    "s2[0]"
   ]
  },
  {
   "cell_type": "markdown",
   "id": "6b35f375",
   "metadata": {},
   "source": [
    "# Which index does python take? Default or named indexes"
   ]
  },
  {
   "cell_type": "code",
   "execution_count": 43,
   "id": "5a7febe1",
   "metadata": {},
   "outputs": [],
   "source": [
    "s1=pd.Series([2,23,4,43,2],index=[2,4,6,8,10])"
   ]
  },
  {
   "cell_type": "code",
   "execution_count": 50,
   "id": "aab469a7",
   "metadata": {},
   "outputs": [],
   "source": [
    "s2=pd.Series([1,2,24,56,7],index=[1,4,5,7,9])"
   ]
  },
  {
   "cell_type": "code",
   "execution_count": 51,
   "id": "44e4f62e",
   "metadata": {},
   "outputs": [],
   "source": [
    "s3 = s1.append(s2)"
   ]
  },
  {
   "cell_type": "code",
   "execution_count": 52,
   "id": "a842169a",
   "metadata": {},
   "outputs": [
    {
     "data": {
      "text/plain": [
       "4    23\n",
       "4     2\n",
       "dtype: int64"
      ]
     },
     "execution_count": 52,
     "metadata": {},
     "output_type": "execute_result"
    }
   ],
   "source": [
    "# it takes named indexes\n",
    "s3[4]"
   ]
  },
  {
   "cell_type": "code",
   "execution_count": 53,
   "id": "70a4a046",
   "metadata": {},
   "outputs": [
    {
     "data": {
      "text/plain": [
       "2      2\n",
       "4     23\n",
       "6      4\n",
       "8     43\n",
       "10     2\n",
       "1      1\n",
       "dtype: int64"
      ]
     },
     "execution_count": 53,
     "metadata": {},
     "output_type": "execute_result"
    }
   ],
   "source": [
    "# It takes Defautt indexing while using slicing\n",
    "s3[0:6]"
   ]
  },
  {
   "cell_type": "code",
   "execution_count": 55,
   "id": "03c63065",
   "metadata": {},
   "outputs": [
    {
     "data": {
      "text/plain": [
       "1      NaN\n",
       "2      NaN\n",
       "4     46.0\n",
       "5      NaN\n",
       "6      NaN\n",
       "7      NaN\n",
       "8      NaN\n",
       "9      NaN\n",
       "10     NaN\n",
       "dtype: float64"
      ]
     },
     "execution_count": 55,
     "metadata": {},
     "output_type": "execute_result"
    }
   ],
   "source": [
    "# Multiplication Operation\n",
    "s1*s2"
   ]
  },
  {
   "cell_type": "code",
   "execution_count": 57,
   "id": "f4fc23c9",
   "metadata": {},
   "outputs": [
    {
     "data": {
      "text/plain": [
       "1      NaN\n",
       "2      NaN\n",
       "4     25.0\n",
       "5      NaN\n",
       "6      NaN\n",
       "7      NaN\n",
       "8      NaN\n",
       "9      NaN\n",
       "10     NaN\n",
       "dtype: float64"
      ]
     },
     "execution_count": 57,
     "metadata": {},
     "output_type": "execute_result"
    }
   ],
   "source": [
    "s1 + s2"
   ]
  }
 ],
 "metadata": {
  "kernelspec": {
   "display_name": "Python 3 (ipykernel)",
   "language": "python",
   "name": "python3"
  },
  "language_info": {
   "codemirror_mode": {
    "name": "ipython",
    "version": 3
   },
   "file_extension": ".py",
   "mimetype": "text/x-python",
   "name": "python",
   "nbconvert_exporter": "python",
   "pygments_lexer": "ipython3",
   "version": "3.9.7"
  }
 },
 "nbformat": 4,
 "nbformat_minor": 5
}
